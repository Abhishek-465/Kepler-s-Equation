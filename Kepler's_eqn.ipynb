{
  "nbformat": 4,
  "nbformat_minor": 0,
  "metadata": {
    "colab": {
      "provenance": []
    },
    "kernelspec": {
      "name": "python3",
      "display_name": "Python 3"
    },
    "language_info": {
      "name": "python"
    }
  },
  "cells": [
    {
      "cell_type": "markdown",
      "source": [
        "# Predict the approximate position and velocity of the satellite orbiting the earth after 4 hours since it passed the periapsis.\n",
        "\n",
        "![68747470733a2f2f64726976652e676f6f676c652e636f6d2f75633f69643d314f583949793777435067376853465779745430546c39474f384d575a5a627873.png](data:image/png;base64,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)"
      ],
      "metadata": {
        "id": "IvANsk3vdISg"
      }
    },
    {
      "cell_type": "code",
      "source": [
        "#Importing libraries\n",
        "import numpy as np"
      ],
      "metadata": {
        "id": "NBi-sF5HdmkM"
      },
      "execution_count": null,
      "outputs": []
    },
    {
      "cell_type": "code",
      "source": [
        "#Constants required\n",
        "G= 6.6743e-11\n",
        "Me=5.972e24 #Mass of earth\n",
        "a=25512e3   #Semi major axis of the orbit\n",
        "e=0.625     #Eccentricity of the orbit\n",
        "t=4*3600    #Time in seconds"
      ],
      "metadata": {
        "id": "NtLRq_CZdwiX"
      },
      "execution_count": null,
      "outputs": []
    },
    {
      "cell_type": "code",
      "source": [
        "#Step 1 finding the Mean Anomaly\n",
        "u=G*Me;\n",
        "n=np.sqrt(u/a**3)\n",
        "M=n*t\n",
        "print(f'The Mean Anomaly is {round(M,3)} rad')"
      ],
      "metadata": {
        "colab": {
          "base_uri": "https://localhost:8080/"
        },
        "id": "EuaEomN5elmH",
        "outputId": "e5d95376-984f-4334-f15f-22fec87ebf38"
      },
      "execution_count": null,
      "outputs": [
        {
          "output_type": "stream",
          "name": "stdout",
          "text": [
            "The Mean Anomaly is 2.231 rad\n"
          ]
        }
      ]
    },
    {
      "cell_type": "code",
      "source": [
        "#Step 2 finding the Eccentric Anomaly\n",
        "\n",
        "def kepler_eqn(M,E,e):\n",
        "  return (E-e*np.sin(E)-M)\n",
        "\n",
        "def kepler_deriv(E,e):\n",
        "  return (1-e*np.cos(E))\n",
        "\n",
        "def newton_raphson(eps,x0,func,dfunc):\n",
        "  xn=x0;\n",
        "  fn=func(xn)\n",
        "  i=0\n",
        "  while(abs(fn) > eps):\n",
        "    xn=xn - fn/dfunc(xn)\n",
        "    fn=func(xn)\n",
        "    i+=1\n",
        "    if i ==100:\n",
        "      print(\"Failed to converge after 100 iterations\")\n",
        "      break\n",
        "    return xn\n",
        "\n",
        "x0=M\n",
        "eps=1e-6\n",
        "E= newton_raphson(eps,x0,func=lambda E: kepler_eqn(E,M,e),dfunc=lambda E: kepler_deriv(E,e))\n",
        "\n",
        "print(f'The Eccentric Anomaly is {round(E,3)} rad')"
      ],
      "metadata": {
        "colab": {
          "base_uri": "https://localhost:8080/"
        },
        "id": "yziAV3QrfRbv",
        "outputId": "3b98ea8e-b3cf-420e-ec8b-fec3d975d044"
      },
      "execution_count": null,
      "outputs": [
        {
          "output_type": "stream",
          "name": "stdout",
          "text": [
            "The Eccentric Anomaly is 2.588 rad\n"
          ]
        }
      ]
    },
    {
      "cell_type": "code",
      "source": [
        "#Step 3 finding the True Anomaly\n",
        "F=2*np.arctan(np.sqrt((1+e)/(1-e))*np.tan(E/2))\n",
        "print(f'The True Anomaly is {round(F,3)} rad')"
      ],
      "metadata": {
        "colab": {
          "base_uri": "https://localhost:8080/"
        },
        "id": "7h-cAkJjnkOQ",
        "outputId": "9d70bde7-8bc3-4ea8-a467-286679e32f99"
      },
      "execution_count": null,
      "outputs": [
        {
          "output_type": "stream",
          "name": "stdout",
          "text": [
            "The True Anomaly is 2.87 rad\n"
          ]
        }
      ]
    },
    {
      "cell_type": "code",
      "source": [
        "#Finding position and velocity\n",
        "r=a*(1-e**2)/(1+e*np.cos(F))\n",
        "v=np.sqrt(u*(2/r-1/a))\n",
        "print(f'The Position is {round(r/1000,3)} Km from the center of earth.')\n",
        "print(f'The Velocity is {round(v/1000,3)} Km/hr.')"
      ],
      "metadata": {
        "colab": {
          "base_uri": "https://localhost:8080/"
        },
        "id": "KmoO_B6Xoap6",
        "outputId": "32d45e37-bcde-4ec7-e17a-ae0502bd428d"
      },
      "execution_count": null,
      "outputs": [
        {
          "output_type": "stream",
          "name": "stdout",
          "text": [
            "The Position is 39074.669 Km from the center of earth.\n",
            "The Velocity is 2.186 Km/hr.\n"
          ]
        }
      ]
    },
    {
      "cell_type": "markdown",
      "source": [
        "\n",
        "# Final Position\n",
        " ![68747470733a2f2f64726976652e676f6f676c652e636f6d2f75633f69643d31564b323276312d5f5f79456c6154536d776c3336573451426367525530566e6a.png](data:image/png;base64,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)"
      ],
      "metadata": {
        "id": "NYx8YprlsMsq"
      }
    },
    {
      "cell_type": "markdown",
      "source": [
        "# Thanks to Spartifical Innovations"
      ],
      "metadata": {
        "id": "gjYwnnmTsloX"
      }
    }
  ]
}